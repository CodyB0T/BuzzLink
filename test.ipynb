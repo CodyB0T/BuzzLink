{
 "cells": [
  {
   "cell_type": "code",
   "execution_count": 18,
   "metadata": {},
   "outputs": [],
   "source": [
    "data = {\n",
    "    \"Everyone\": {\n",
    "        b\"\\x02\\x42\\xac\\x11\\x00\\xef\",\n",
    "        b\"\\x1a\\x2b\\x3c\\x4d\\x5e\\x6f\",\n",
    "        b\"\\x8c\\xa1\\x63\\x7f\\xd2\\x09\"\n",
    "    },\n",
    "    \"Cody\": b\"\\x02\\x42\\xac\\x11\\x00\\xef\",\n",
    "    \"Basement\": b\"\\x8c\\xa1\\x63\\x7f\\xd2\\x09\",\n",
    "    \"Derek\" : b\"\\x8c\\xa1\\x63\\x7f\\xd2\\x09\",\n",
    "    \"Codyx\": b\"\\x02\\x42\\xac\\x11\\x00\\xef\",\n",
    "    \"Basementx\": b\"\\x8c\\xa1\\x63\\x7f\\xd2\\x09\",\n",
    "    \"Derekx\" : b\"\\x8c\\xa1\\x63\\x7f\\xd2\\x09\"\n",
    "}"
   ]
  },
  {
   "cell_type": "code",
   "execution_count": 36,
   "metadata": {},
   "outputs": [
    {
     "name": "stdout",
     "output_type": "stream",
     "text": [
      ">Everyone\n",
      "Cody\n",
      "Basement\n",
      "\n"
     ]
    }
   ],
   "source": [
    "val = 0\n",
    "keys = list(data.keys())\n",
    "page = (val//3) * 3\n",
    "s = \"\"\n",
    "\n",
    "for x in range(3):\n",
    "    if page+x > len(keys)-1:\n",
    "        pass\n",
    "    else:\n",
    "        if val%3 == x:\n",
    "            s += '>'\n",
    "        s += f\"{keys[page+x]}\\n\"\n",
    "\n",
    "print(s)\n",
    "# print(keys[page+x], page+x, page)\n"
   ]
  },
  {
   "cell_type": "code",
   "execution_count": 37,
   "metadata": {},
   "outputs": [
    {
     "name": "stdout",
     "output_type": "stream",
     "text": [
      ">Everyone\n",
      "Cody\n",
      "Basement\n",
      "\n"
     ]
    }
   ],
   "source": [
    "def displayMenu(val):\n",
    "    keys = list(data.keys())\n",
    "    page = (val//3) * 3\n",
    "    s = \"\"\n",
    "\n",
    "    for x in range(3):\n",
    "      if page+x > len(keys)-1:\n",
    "        break\n",
    "      else:\n",
    "        if val%3 == x:\n",
    "          s += '>'\n",
    "        s += f\"{keys[page+x]}\\n\"\n",
    "    print(s)\n",
    "\n",
    "displayMenu(0)"
   ]
  },
  {
   "cell_type": "code",
   "execution_count": 38,
   "metadata": {},
   "outputs": [
    {
     "data": {
      "text/plain": [
       "['Everyone', 'Cody', 'Basement', 'Derek', 'Codyx', 'Basementx', 'Derekx']"
      ]
     },
     "execution_count": 38,
     "metadata": {},
     "output_type": "execute_result"
    }
   ],
   "source": [
    "keys = list(data.keys())\n",
    "keys"
   ]
  },
  {
   "cell_type": "code",
   "execution_count": 4,
   "metadata": {},
   "outputs": [],
   "source": [
    "from collections import OrderedDict\n",
    "\n",
    "data = OrderedDict([\n",
    "    (\"Everyone\", {\n",
    "        b\"\\x02\\x42\\xac\\x11\\x00\\xef\",\n",
    "        b\"\\x1a\\x2b\\x3c\\x4d\\x5e\\x6f\",\n",
    "        b\"\\x8c\\xa1\\x63\\x7f\\xd2\\x09\"\n",
    "    }),\n",
    "    (\"Cody\", b\"\\x02\\x42\\xac\\x11\\x00\\xef\"),\n",
    "    (\"Basement\", b\"\\x8c\\xa1\\x63\\x7f\\xd2\\x09\"),\n",
    "    (\"Derek\", b\"\\x8c\\xa1\\x63\\x7f\\xd2\\x09\"),\n",
    "    (\"Codyx\", b\"\\x02\\x42\\xac\\x11\\x00\\xef\"),\n",
    "    (\"Basementx\", b\"\\x8c\\xa1\\x63\\x7f\\xd2\\x09\"),\n",
    "    (\"Derekx\", b\"\\x8c\\xa1\\x63\\x7f\\xd2\\x09\")\n",
    "])"
   ]
  },
  {
   "cell_type": "code",
   "execution_count": 12,
   "metadata": {},
   "outputs": [
    {
     "data": {
      "text/plain": [
       "b'\\x02B\\xac\\x11\\x00\\xef'"
      ]
     },
     "execution_count": 12,
     "metadata": {},
     "output_type": "execute_result"
    }
   ],
   "source": [
    "keys = list(data.keys())\n",
    "data[keys[1]]\n"
   ]
  }
 ],
 "metadata": {
  "kernelspec": {
   "display_name": "deltalabs",
   "language": "python",
   "name": "python3"
  },
  "language_info": {
   "codemirror_mode": {
    "name": "ipython",
    "version": 3
   },
   "file_extension": ".py",
   "mimetype": "text/x-python",
   "name": "python",
   "nbconvert_exporter": "python",
   "pygments_lexer": "ipython3",
   "version": "3.9.18"
  }
 },
 "nbformat": 4,
 "nbformat_minor": 2
}
